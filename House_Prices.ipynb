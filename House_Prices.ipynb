{
 "cells": [
  {
   "cell_type": "code",
   "execution_count": 48,
   "id": "e9fdb985-7edb-4f07-a929-7e47bc696e20",
   "metadata": {},
   "outputs": [
    {
     "name": "stderr",
     "output_type": "stream",
     "text": [
      "C:\\Users\\kurty\\AppData\\Local\\Temp\\ipykernel_12128\\3705795254.py:13: FutureWarning: A value is trying to be set on a copy of a DataFrame or Series through chained assignment using an inplace method.\n",
      "The behavior will change in pandas 3.0. This inplace method will never work because the intermediate object on which we are setting values always behaves as a copy.\n",
      "\n",
      "For example, when doing 'df[col].method(value, inplace=True)', try using 'df.method({col: value}, inplace=True)' or df[col] = df[col].method(value) instead, to perform the operation inplace on the original object.\n",
      "\n",
      "\n",
      "  data['Carpet Area'].fillna(data['Carpet Area'].median(), inplace=True)\n",
      "C:\\Users\\kurty\\AppData\\Local\\Temp\\ipykernel_12128\\3705795254.py:41: FutureWarning: A value is trying to be set on a copy of a DataFrame or Series through chained assignment using an inplace method.\n",
      "The behavior will change in pandas 3.0. This inplace method will never work because the intermediate object on which we are setting values always behaves as a copy.\n",
      "\n",
      "For example, when doing 'df[col].method(value, inplace=True)', try using 'df.method({col: value}, inplace=True)' or df[col] = df[col].method(value) instead, to perform the operation inplace on the original object.\n",
      "\n",
      "\n",
      "  data['Amount(in rupees)'].fillna(data['Amount(in rupees)'].median(), inplace=True)\n"
     ]
    },
    {
     "name": "stdout",
     "output_type": "stream",
     "text": [
      "Model başarıyla eğitildi.\n"
     ]
    }
   ],
   "source": [
    "import pandas as pd\n",
    "import numpy as np\n",
    "from sklearn.model_selection import train_test_split\n",
    "from sklearn.linear_model import LinearRegression\n",
    "\n",
    "# Adım 1: Veri setini yükle\n",
    "data = pd.read_csv(\"house_prices.csv.zip\")\n",
    "\n",
    "# Adım 2: Veri Ön İşleme\n",
    "# 'Carpet Area' sütununu temizleme\n",
    "data['Carpet Area'] = data['Carpet Area'].str.replace('sqft', '', regex=False).str.strip()\n",
    "data['Carpet Area'] = pd.to_numeric(data['Carpet Area'], errors='coerce')\n",
    "data['Carpet Area'].fillna(data['Carpet Area'].median(), inplace=True)\n",
    "data['Carpet Area'] = data['Carpet Area'].astype(int)\n",
    "\n",
    "# 'location' sütunundaki nadir değerleri gruplandırma\n",
    "location_counts = data['location'].value_counts()\n",
    "top_10_locations = location_counts.head(10).index\n",
    "data['location'] = data['location'].apply(lambda x: x if x in top_10_locations else 'Other')\n",
    "\n",
    "# Yüksek kardinaliteli sütunları silme\n",
    "columns_to_drop = ['Title', 'Description', 'Society', 'Floor', 'Super Area']\n",
    "data.drop(columns=columns_to_drop, inplace=True)\n",
    "\n",
    "# **ÖNEMLİ ADIM:** 'Amount(in rupees)' sütununu temizleme ve sayısal hale getirme\n",
    "def convert_price(price):\n",
    "    price = str(price).lower().strip()\n",
    "    if 'lac' in price:\n",
    "        return float(price.replace('lac', '').strip()) * 100000\n",
    "    elif 'cr' in price:\n",
    "        return float(price.replace('cr', '').strip()) * 10000000\n",
    "    else:\n",
    "        try:\n",
    "            return float(price)\n",
    "        except ValueError:\n",
    "            return np.nan\n",
    "\n",
    "data['Amount(in rupees)'] = data['Amount(in rupees)'].apply(convert_price)\n",
    "\n",
    "# **YENİ ADIM:** 'Amount(in rupees)' sütunundaki NaN değerlerini medyan ile doldurma\n",
    "data['Amount(in rupees)'].fillna(data['Amount(in rupees)'].median(), inplace=True)\n",
    "\n",
    "# Adım 3: Veriyi özellikler (X) ve hedef (y) olarak ayırma\n",
    "y = data['Amount(in rupees)']\n",
    "X = data.drop(columns=['Amount(in rupees)'])\n",
    "\n",
    "# Adım 4: Kalan tüm kategorik (metin) sütunlarını One-Hot Encoding ile kodlama\n",
    "X = pd.get_dummies(X, columns=X.select_dtypes(include='object').columns)\n",
    "\n",
    "# Adım 5: Geri kalan tüm NaN değerlerini doldurma\n",
    "X.fillna(0, inplace=True) \n",
    "\n",
    "# Adım 6: Veriyi eğitim ve test setlerine bölme\n",
    "X_train, X_test, y_train, y_test = train_test_split(X, y, test_size=0.2, random_state=42)\n",
    "\n",
    "# Adım 7: Modeli eğitme\n",
    "model = LinearRegression()\n",
    "model.fit(X_train, y_train)\n",
    "\n",
    "# Başarı mesajı\n",
    "print(\"Model başarıyla eğitildi.\")"
   ]
  },
  {
   "cell_type": "code",
   "execution_count": null,
   "id": "6ad86660-9435-4f0a-a471-6ea6189c92d0",
   "metadata": {},
   "outputs": [],
   "source": []
  }
 ],
 "metadata": {
  "kernelspec": {
   "display_name": "Python 3 (ipykernel)",
   "language": "python",
   "name": "python3"
  },
  "language_info": {
   "codemirror_mode": {
    "name": "ipython",
    "version": 3
   },
   "file_extension": ".py",
   "mimetype": "text/x-python",
   "name": "python",
   "nbconvert_exporter": "python",
   "pygments_lexer": "ipython3",
   "version": "3.13.5"
  }
 },
 "nbformat": 4,
 "nbformat_minor": 5
}
